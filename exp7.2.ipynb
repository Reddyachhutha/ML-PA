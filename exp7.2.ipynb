{
 "cells": [
  {
   "cell_type": "code",
   "execution_count": 8,
   "id": "db6c30f9-855f-4767-9318-07aec044d338",
   "metadata": {},
   "outputs": [
    {
     "name": "stdout",
     "output_type": "stream",
     "text": [
      "      Id  SepalLengthCm  SepalWidthCm  PetalLengthCm  PetalWidthCm  \\\n",
      "0      1            5.1           3.5            1.4           0.2   \n",
      "1      2            4.9           3.0            1.4           0.2   \n",
      "2      3            4.7           3.2            1.3           0.2   \n",
      "3      4            4.6           3.1            1.5           0.2   \n",
      "4      5            5.0           3.6            1.4           0.2   \n",
      "..   ...            ...           ...            ...           ...   \n",
      "145  146            6.7           3.0            5.2           2.3   \n",
      "146  147            6.3           2.5            5.0           1.9   \n",
      "147  148            6.5           3.0            5.2           2.0   \n",
      "148  149            6.2           3.4            5.4           2.3   \n",
      "149  150            5.9           3.0            5.1           1.8   \n",
      "\n",
      "            Species  \n",
      "0       Iris-setosa  \n",
      "1       Iris-setosa  \n",
      "2       Iris-setosa  \n",
      "3       Iris-setosa  \n",
      "4       Iris-setosa  \n",
      "..              ...  \n",
      "145  Iris-virginica  \n",
      "146  Iris-virginica  \n",
      "147  Iris-virginica  \n",
      "148  Iris-virginica  \n",
      "149  Iris-virginica  \n",
      "\n",
      "[150 rows x 6 columns]\n",
      "[4.72692463 2.33680655 3.80764844 6.01391129 1.78524083 3.25608273\n",
      " 4.54306939 5.27849034 3.43993797 5.27849034 1.96909607 5.27849034\n",
      " 1.41753036 1.23367512 4.17535892 2.52066178 6.93318748 3.07222749\n",
      " 7.11704271 3.43993797 4.54306939 4.54306939 3.43993797 4.35921416\n",
      " 3.62379321 4.54306939 3.99150368 2.88837226 2.15295131 4.91077987] \n",
      "\n",
      "Mean Absolute Error: 0.7623418033349623\n",
      "Mean Squared Error: 0.9151784560425145\n",
      "RMSE: 0.9566495994054012\n"
     ]
    }
   ],
   "source": [
    "import pandas as pd\n",
    "import numpy as np\n",
    "\n",
    "# Load dataset\n",
    "iris = pd.read_csv(\"IRIS.csv\")\n",
    "print(iris)\n",
    "\n",
    "# Features and target\n",
    "x = iris[['SepalLengthCm']]\n",
    "y = iris.PetalLengthCm\n",
    "\n",
    "# Split data\n",
    "from sklearn.model_selection import train_test_split\n",
    "x_train, x_test, y_train, y_test = train_test_split(x, y, test_size=0.2)\n",
    "\n",
    "# Train model\n",
    "from sklearn.linear_model import LinearRegression\n",
    "LR = LinearRegression()\n",
    "LR.fit(x_train, y_train)\n",
    "\n",
    "# Predictions\n",
    "y_pred = LR.predict(x_test)\n",
    "print(y_pred, \"\\n\")\n",
    "\n",
    "# Evaluate model\n",
    "from sklearn import metrics\n",
    "\n",
    "MAE = metrics.mean_absolute_error(y_test, y_pred)\n",
    "print(\"Mean Absolute Error:\", MAE)\n",
    "\n",
    "MSE = metrics.mean_squared_error(y_test, y_pred)\n",
    "print(\"Mean Squared Error:\", MSE)\n",
    "\n",
    "RMSE = np.sqrt(MSE)\n",
    "print(\"RMSE:\", RMSE)\n"
   ]
  },
  {
   "cell_type": "code",
   "execution_count": null,
   "id": "8346a811-0957-410c-b229-272f977e4089",
   "metadata": {},
   "outputs": [],
   "source": []
  }
 ],
 "metadata": {
  "kernelspec": {
   "display_name": "Python 3 (ipykernel)",
   "language": "python",
   "name": "python3"
  },
  "language_info": {
   "codemirror_mode": {
    "name": "ipython",
    "version": 3
   },
   "file_extension": ".py",
   "mimetype": "text/x-python",
   "name": "python",
   "nbconvert_exporter": "python",
   "pygments_lexer": "ipython3",
   "version": "3.13.5"
  }
 },
 "nbformat": 4,
 "nbformat_minor": 5
}
