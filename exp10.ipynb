{
 "cells": [
  {
   "cell_type": "code",
   "execution_count": 1,
   "id": "2c69c8cb-1145-4692-ab7f-9edea5c96e1b",
   "metadata": {},
   "outputs": [
    {
     "name": "stdout",
     "output_type": "stream",
     "text": [
      "\n",
      "Predicted Values :  [1 0 2 1 1 0 1 2 1 1 2 0 0 0 0 1 2 1 1 2 0 2 0 2 2 2 2 2 0 0]\n",
      "\n",
      "Accuracy  :  1.0\n",
      "Precision :  1.0\n",
      "Recall    :  1.0\n",
      "F1-Score  :  1.0\n",
      "ROC-AUC   :  1.0\n"
     ]
    }
   ],
   "source": [
    "from sklearn import datasets\n",
    "from sklearn.model_selection import train_test_split\n",
    "from sklearn.ensemble import RandomForestClassifier\n",
    "from sklearn.metrics import accuracy_score, precision_score, recall_score, f1_score, roc_auc_score\n",
    "\n",
    "# Load dataset\n",
    "iris = datasets.load_iris()\n",
    "x = iris.data\n",
    "y = iris.target\n",
    "\n",
    "# Split dataset (80% train, 20% test)\n",
    "x_train, x_test, y_train, y_test = train_test_split(x, y, train_size=0.8, random_state=42)\n",
    "\n",
    "# Create and train Random Forest model\n",
    "RF = RandomForestClassifier(n_estimators=100, random_state=42)  # 100 trees\n",
    "RF.fit(x_train, y_train)\n",
    "\n",
    "# Predictions\n",
    "y_pred = RF.predict(x_test)\n",
    "y_prob = RF.predict_proba(x_test)   # needed for AUC\n",
    "\n",
    "# Evaluation Metrics\n",
    "Accuracy = accuracy_score(y_test, y_pred)\n",
    "Precision = precision_score(y_test, y_pred, average='macro')\n",
    "Recall = recall_score(y_test, y_pred, average='macro')\n",
    "F1 = f1_score(y_test, y_pred, average='macro')\n",
    "AUC = roc_auc_score(y_test, y_prob, multi_class='ovr')\n",
    "\n",
    "# Results\n",
    "print(\"\\nPredicted Values : \", y_pred)\n",
    "print(\"\\nAccuracy  : \", Accuracy)\n",
    "print(\"Precision : \", Precision)\n",
    "print(\"Recall    : \", Recall)\n",
    "print(\"F1-Score  : \", F1)\n",
    "print(\"ROC-AUC   : \", AUC)\n"
   ]
  },
  {
   "cell_type": "code",
   "execution_count": null,
   "id": "dbccd671-97f0-4177-8b0d-aee76a8ecdc6",
   "metadata": {},
   "outputs": [],
   "source": []
  }
 ],
 "metadata": {
  "kernelspec": {
   "display_name": "Python 3 (ipykernel)",
   "language": "python",
   "name": "python3"
  },
  "language_info": {
   "codemirror_mode": {
    "name": "ipython",
    "version": 3
   },
   "file_extension": ".py",
   "mimetype": "text/x-python",
   "name": "python",
   "nbconvert_exporter": "python",
   "pygments_lexer": "ipython3",
   "version": "3.13.6"
  }
 },
 "nbformat": 4,
 "nbformat_minor": 5
}
