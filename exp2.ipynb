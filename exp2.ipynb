{
 "cells": [
  {
   "cell_type": "code",
   "execution_count": 1,
   "id": "6bc228d5-626a-4796-83ec-ede3a5cdf6fc",
   "metadata": {},
   "outputs": [
    {
     "name": "stdout",
     "output_type": "stream",
     "text": [
      "mahendra singh dhoni born 7 juli 1981 is an indian profession cricket who play as a right-hand batter and a wicket-keep . wide regard as one of the most prolif wicket-keep batsmen and captain and one of the greatest odi batsmen ever , he repres the indian cricket team and wa the captain of the side in limit over format from 2007 to 2017 and in test cricket from 2008 to 2014. dhoni ha captain the most intern match and is the most success indian captain . he ha led india to victori in the 2007 icc world twenty20 , the 2011 cricket world cup , and the 2013 icc champion trophi , be the onli captain to win three differ limit over icc tournament . he also led the team that won the asia cup in 2010 , 2016 and wa a member of the titl win squad in 2018 .\n",
      "lenght of stemming =  152\n"
     ]
    }
   ],
   "source": [
    "#Stemmer\n",
    "import nltk\n",
    "from nltk import word_tokenize\n",
    "from nltk.stem import PorterStemmer\n",
    "input='Mahendra Singh Dhoni born 7 July 1981 is an Indian professional cricketer who plays as a right-handed batter and a wicket-keeper. Widely regarded as one of the most prolific wicket-keeper batsmen and captains and one of the greatest ODI batsmen ever, he represented the Indian cricket team and was the captain of the side in limited overs formats from 2007 to 2017 and in test cricket from 2008 to 2014. Dhoni has captained the most international matches and is the most successful Indian captain. He has led India to victory in the 2007 ICC World Twenty20, the 2011 Cricket World Cup, and the 2013 ICC Champions Trophy, being the only captain to win three different limited overs ICC tournaments. He also led the teams that won the Asia Cup in 2010, 2016 and was a member of the title winning squad in 2018.'\n",
    "lower_case_text=input.lower()\n",
    "WT_text=word_tokenize(lower_case_text)\n",
    "stemming=[]\n",
    "for token in WT_text:\n",
    "    stemming.append(PorterStemmer().stem(token))\n",
    "print(' '.join(stemming))\n",
    "print ('lenght of stemming = ',len(stemming))\n",
    "    "
   ]
  },
  {
   "cell_type": "code",
   "execution_count": 19,
   "id": "4d6a0911-3a36-44e8-9458-5b528397b1f4",
   "metadata": {},
   "outputs": [
    {
     "name": "stdout",
     "output_type": "stream",
     "text": [
      "mahendra singh dhoni born 7 july 1981 is an indian professional cricketer who play a a right-handed batter and a wicket-keeper . widely regarded a one of the most prolific wicket-keeper batsman and captain and one of the greatest odi batsman ever , he represented the indian cricket team and wa the captain of the side in limited over format from 2007 to 2017 and in test cricket from 2008 to 2014. dhoni ha captained the most international match and is the most successful indian captain . he ha led india to victory in the 2007 icc world twenty20 , the 2011 cricket world cup , and the 2013 icc champion trophy , being the only captain to win three different limited over icc tournament . he also led the team that won the asia cup in 2010 , 2016 and wa a member of the title winning squad in 2018 .\n",
      "152\n"
     ]
    }
   ],
   "source": [
    "#Lemmatizer\n",
    "import nltk\n",
    "from nltk.stem import WordNetLemmatizer\n",
    "from nltk import word_tokenize\n",
    "input='Mahendra Singh Dhoni born 7 July 1981 is an Indian professional cricketer who plays as a right-handed batter and a wicket-keeper. Widely regarded as one of the most prolific wicket-keeper batsmen and captains and one of the greatest ODI batsmen ever, he represented the Indian cricket team and was the captain of the side in limited overs formats from 2007 to 2017 and in test cricket from 2008 to 2014. Dhoni has captained the most international matches and is the most successful Indian captain. He has led India to victory in the 2007 ICC World Twenty20, the 2011 Cricket World Cup, and the 2013 ICC Champions Trophy, being the only captain to win three different limited overs ICC tournaments. He also led the teams that won the Asia Cup in 2010, 2016 and was a member of the title winning squad in 2018.'\n",
    "lower_case_text=input.lower()\n",
    "WT_text=word_tokenize(lower_case_text)\n",
    "lemmatized_text=[]\n",
    "for token in WT_text:\n",
    "    lemmatized_text.append(WordNetLemmatizer().lemmatize(token))\n",
    "print(' '.join(lemmatized_text))\n",
    "print(len(lemmatized_text))"
   ]
  },
  {
   "cell_type": "code",
   "execution_count": 2,
   "id": "c7354bda-2d08-4aef-aa15-5b1addef1b34",
   "metadata": {},
   "outputs": [
    {
     "name": "stdout",
     "output_type": "stream",
     "text": [
      "[('mahendra', 'NN'), ('singh', 'NN'), ('dhoni', 'NN'), ('born', 'VBD'), ('7', 'CD'), ('july', 'NN'), ('1981', 'CD'), ('is', 'VBZ'), ('an', 'DT'), ('indian', 'JJ'), ('professional', 'JJ'), ('cricketer', 'NN'), ('who', 'WP'), ('plays', 'VBZ'), ('as', 'IN'), ('a', 'DT'), ('right-handed', 'JJ'), ('batter', 'NN'), ('and', 'CC'), ('a', 'DT'), ('wicket-keeper', 'JJ'), ('.', '.'), ('widely', 'RB'), ('regarded', 'VBD'), ('as', 'IN'), ('one', 'CD'), ('of', 'IN'), ('the', 'DT'), ('most', 'RBS'), ('prolific', 'JJ'), ('wicket-keeper', 'JJ'), ('batsmen', 'NNS'), ('and', 'CC'), ('captains', 'NNS'), ('and', 'CC'), ('one', 'CD'), ('of', 'IN'), ('the', 'DT'), ('greatest', 'JJS'), ('odi', 'NN'), ('batsmen', 'NNS'), ('ever', 'RB'), (',', ','), ('he', 'PRP'), ('represented', 'VBD'), ('the', 'DT'), ('indian', 'JJ'), ('cricket', 'NN'), ('team', 'NN'), ('and', 'CC'), ('was', 'VBD'), ('the', 'DT'), ('captain', 'NN'), ('of', 'IN'), ('the', 'DT'), ('side', 'NN'), ('in', 'IN'), ('limited', 'JJ'), ('overs', 'NNS'), ('formats', 'NNS'), ('from', 'IN'), ('2007', 'CD'), ('to', 'TO'), ('2017', 'CD'), ('and', 'CC'), ('in', 'IN'), ('test', 'NN'), ('cricket', 'NN'), ('from', 'IN'), ('2008', 'CD'), ('to', 'TO'), ('2014.', 'CD'), ('dhoni', 'NN'), ('has', 'VBZ'), ('captained', 'VBN'), ('the', 'DT'), ('most', 'RBS'), ('international', 'JJ'), ('matches', 'NNS'), ('and', 'CC'), ('is', 'VBZ'), ('the', 'DT'), ('most', 'RBS'), ('successful', 'JJ'), ('indian', 'JJ'), ('captain', 'NN'), ('.', '.'), ('he', 'PRP'), ('has', 'VBZ'), ('led', 'VBN'), ('india', 'NNS'), ('to', 'TO'), ('victory', 'NN'), ('in', 'IN'), ('the', 'DT'), ('2007', 'CD'), ('icc', 'NN'), ('world', 'NN'), ('twenty20', 'NN'), (',', ','), ('the', 'DT'), ('2011', 'CD'), ('cricket', 'NN'), ('world', 'NN'), ('cup', 'NN'), (',', ','), ('and', 'CC'), ('the', 'DT'), ('2013', 'CD'), ('icc', 'NN'), ('champions', 'NNS'), ('trophy', 'NN'), (',', ','), ('being', 'VBG'), ('the', 'DT'), ('only', 'RB'), ('captain', 'NN'), ('to', 'TO'), ('win', 'VB'), ('three', 'CD'), ('different', 'JJ'), ('limited', 'VBD'), ('overs', 'NNS'), ('icc', 'JJ'), ('tournaments', 'NNS'), ('.', '.'), ('he', 'PRP'), ('also', 'RB'), ('led', 'VBD'), ('the', 'DT'), ('teams', 'NNS'), ('that', 'WDT'), ('won', 'VBD'), ('the', 'DT'), ('asia', 'JJ'), ('cup', 'NN'), ('in', 'IN'), ('2010', 'CD'), (',', ','), ('2016', 'CD'), ('and', 'CC'), ('was', 'VBD'), ('a', 'DT'), ('member', 'NN'), ('of', 'IN'), ('the', 'DT'), ('title', 'NN'), ('winning', 'VBG'), ('squad', 'NN'), ('in', 'IN'), ('2018', 'CD'), ('.', '.')]\n"
     ]
    }
   ],
   "source": [
    "#POS Tags\n",
    "import nltk\n",
    "from nltk import pos_tag\n",
    "from nltk import word_tokenize\n",
    "input='Mahendra Singh Dhoni born 7 July 1981 is an Indian professional cricketer who plays as a right-handed batter and a wicket-keeper. Widely regarded as one of the most prolific wicket-keeper batsmen and captains and one of the greatest ODI batsmen ever, he represented the Indian cricket team and was the captain of the side in limited overs formats from 2007 to 2017 and in test cricket from 2008 to 2014. Dhoni has captained the most international matches and is the most successful Indian captain. He has led India to victory in the 2007 ICC World Twenty20, the 2011 Cricket World Cup, and the 2013 ICC Champions Trophy, being the only captain to win three different limited overs ICC tournaments. He also led the teams that won the Asia Cup in 2010, 2016 and was a member of the title winning squad in 2018.'\n",
    "lower_case_text=input.lower()\n",
    "WT_text=word_tokenize(lower_case_text)\n",
    "pos_list=pos_tag(WT_text)\n",
    "print (pos_list)"
   ]
  },
  {
   "cell_type": "code",
   "execution_count": null,
   "id": "2658b595-237b-4776-a8be-4acac4142450",
   "metadata": {},
   "outputs": [],
   "source": []
  }
 ],
 "metadata": {
  "kernelspec": {
   "display_name": "Python 3 (ipykernel)",
   "language": "python",
   "name": "python3"
  },
  "language_info": {
   "codemirror_mode": {
    "name": "ipython",
    "version": 3
   },
   "file_extension": ".py",
   "mimetype": "text/x-python",
   "name": "python",
   "nbconvert_exporter": "python",
   "pygments_lexer": "ipython3",
   "version": "3.13.5"
  }
 },
 "nbformat": 4,
 "nbformat_minor": 5
}
