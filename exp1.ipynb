{
 "cells": [
  {
   "cell_type": "code",
   "execution_count": 2,
   "id": "2ea9f82d-6965-41de-90ac-1af059cb6502",
   "metadata": {},
   "outputs": [
    {
     "name": "stdout",
     "output_type": "stream",
     "text": [
      "Mahendra Singh Dhoni  born 7 July 1981 is an Indian professional cricketer who plays as a right-handed batter and a wicket-keeper. Widely regarded as one of the most prolific wicket-keeper batsmen and captains and one of the greatest ODI batsmen ever, he represented the Indian cricket team and was the captain of the side in limited overs formats from 2007 to 2017 and in test cricket from 2008 to 2014. Dhoni has captained the most international matches and is the most successful Indian captain. He has led India to victory in the 2007 ICC World Twenty20, the 2011 Cricket World Cup, and the 2013 ICC Champions Trophy, being the only captain to win three different limited overs ICC tournaments. He also led the teams that won the Asia Cup in 2010, 2016 and was a member of the title winning squad in 2018.\n"
     ]
    }
   ],
   "source": [
    "input='Mahendra Singh Dhoni  born 7 July 1981 is an Indian professional cricketer who plays as a right-handed batter and a wicket-keeper. Widely regarded as one of the most prolific wicket-keeper batsmen and captains and one of the greatest ODI batsmen ever, he represented the Indian cricket team and was the captain of the side in limited overs formats from 2007 to 2017 and in test cricket from 2008 to 2014. Dhoni has captained the most international matches and is the most successful Indian captain. He has led India to victory in the 2007 ICC World Twenty20, the 2011 Cricket World Cup, and the 2013 ICC Champions Trophy, being the only captain to win three different limited overs ICC tournaments. He also led the teams that won the Asia Cup in 2010, 2016 and was a member of the title winning squad in 2018.'\n",
    "print (input)\n"
   ]
  },
  {
   "cell_type": "code",
   "execution_count": 7,
   "id": "5a7cb3b2-ddcd-497f-a0c9-9125d6ca5508",
   "metadata": {},
   "outputs": [
    {
     "name": "stdout",
     "output_type": "stream",
     "text": [
      "RE_TEXT1 =  m#hendr# singh dhoni born 7 july 1981 is #n indi#n profession#l cricketer who pl#ys #s # right-h#nded b#tter #nd # wicket-keeper. widely reg#rded #s one of the most prolific wicket-keeper b#tsmen #nd c#pt#ins #nd one of the gre#test odi b#tsmen ever, he represented the indi#n cricket te#m #nd w#s the c#pt#in of the side in limited overs form#ts from 2007 to 2017 #nd in test cricket from 2008 to 2014. dhoni h#s c#pt#ined the most intern#tion#l m#tches #nd is the most successful indi#n c#pt#in. he h#s led indi# to victory in the 2007 icc world twenty20, the 2011 cricket world cup, #nd the 2013 icc ch#mpions trophy, being the only c#pt#in to win three different limited overs icc tourn#ments. he #lso led the te#ms th#t won the #si# cup in 2010, 2016 #nd w#s # member of the title winning squ#d in 2018.\n",
      "RE_TEXT2 =  ma$$n$ra s$n$$ $$on$ $orn 7 $uly 1981 $s an $n$$an pro$$ss$onal $r$$$$t$r w$o plays as a r$$$t-$an$$$ $att$r an$ a w$$$$t-$$$p$r. w$$$ly r$$ar$$$ as on$ o$ t$$ most prol$$$$ w$$$$t-$$$p$r $atsm$n an$ $apta$ns an$ on$ o$ t$$ $r$at$st o$$ $atsm$n $v$r, $$ r$pr$s$nt$$ t$$ $n$$an $r$$$$t t$am an$ was t$$ $apta$n o$ t$$ s$$$ $n l$m$t$$ ov$rs $ormats $rom 2007 to 2017 an$ $n t$st $r$$$$t $rom 2008 to 2014. $$on$ $as $apta$n$$ t$$ most $nt$rnat$onal mat$$$s an$ $s t$$ most su$$$ss$ul $n$$an $apta$n. $$ $as l$$ $n$$a to v$$tory $n t$$ 2007 $$$ worl$ tw$nty20, t$$ 2011 $r$$$$t worl$ $up, an$ t$$ 2013 $$$ $$amp$ons trop$y, $$$n$ t$$ only $apta$n to w$n t$r$$ $$$$$r$nt l$m$t$$ ov$rs $$$ tournam$nts. $$ also l$$ t$$ t$ams t$at won t$$ as$a $up $n 2010, 2016 an$ was a m$m$$r o$ t$$ t$tl$ w$nn$n$ squa$ $n 2018.\n",
      "RE_TEXT3 =  mahendra singh dhoni born % july % is an indian professional cricketer who plays as a right-handed batter and a wicket-keeper. widely regarded as one of the most prolific wicket-keeper batsmen and captains and one of the greatest odi batsmen ever, he represented the indian cricket team and was the captain of the side in limited overs formats from % to % and in test cricket from % to %. dhoni has captained the most international matches and is the most successful indian captain. he has led india to victory in the % icc world twenty%, the % cricket world cup, and the % icc champions trophy, being the only captain to win three different limited overs icc tournaments. he also led the teams that won the asia cup in %, % and was a member of the title winning squad in %.\n"
     ]
    }
   ],
   "source": [
    "#regular expression\n",
    "input='Mahendra Singh Dhoni born 7 July 1981 is an Indian professional cricketer who plays as a right-handed batter and a wicket-keeper. Widely regarded as one of the most prolific wicket-keeper batsmen and captains and one of the greatest ODI batsmen ever, he represented the Indian cricket team and was the captain of the side in limited overs formats from 2007 to 2017 and in test cricket from 2008 to 2014. Dhoni has captained the most international matches and is the most successful Indian captain. He has led India to victory in the 2007 ICC World Twenty20, the 2011 Cricket World Cup, and the 2013 ICC Champions Trophy, being the only captain to win three different limited overs ICC tournaments. He also led the teams that won the Asia Cup in 2010, 2016 and was a member of the title winning squad in 2018.'\n",
    "lower_case_text=input.lower()\n",
    "import re\n",
    "RE_TEXT1=re.sub('a','#',lower_case_text)\n",
    "print(\"RE_TEXT1 = \", RE_TEXT1 )\n",
    "RE_TEXT2=re.sub('([b-k])','$',lower_case_text)\n",
    "print(\"RE_TEXT2 = \",RE_TEXT2)\n",
    "RE_TEXT3=re.sub(r'\\d+','%',lower_case_text)\n",
    "print( \"RE_TEXT3 = \",RE_TEXT3)"
   ]
  },
  {
   "cell_type": "code",
   "execution_count": 1,
   "id": "1c9dca04-adef-4d2d-864e-e1d87deeab81",
   "metadata": {},
   "outputs": [
    {
     "name": "stdout",
     "output_type": "stream",
     "text": [
      "['mahendra singh dhoni born 7 july 1981 is an indian professional cricketer who plays as a right-handed batter and a wicket-keeper.', 'widely regarded as one of the most prolific wicket-keeper batsmen and captains and one of the greatest odi batsmen ever, he represented the indian cricket team and was the captain of the side in limited overs formats from 2007 to 2017 and in test cricket from 2008 to 2014. dhoni has captained the most international matches and is the most successful indian captain.', 'he has led india to victory in the 2007 icc world twenty20, the 2011 cricket world cup, and the 2013 icc champions trophy, being the only captain to win three different limited overs icc tournaments.', 'he also led the teams that won the asia cup in 2010, 2016 and was a member of the title winning squad in 2018.']\n",
      "['mahendra', 'singh', 'dhoni', 'born', '7', 'july', '1981', 'is', 'an', 'indian', 'professional', 'cricketer', 'who', 'plays', 'as', 'a', 'right-handed', 'batter', 'and', 'a', 'wicket-keeper', '.', 'widely', 'regarded', 'as', 'one', 'of', 'the', 'most', 'prolific', 'wicket-keeper', 'batsmen', 'and', 'captains', 'and', 'one', 'of', 'the', 'greatest', 'odi', 'batsmen', 'ever', ',', 'he', 'represented', 'the', 'indian', 'cricket', 'team', 'and', 'was', 'the', 'captain', 'of', 'the', 'side', 'in', 'limited', 'overs', 'formats', 'from', '2007', 'to', '2017', 'and', 'in', 'test', 'cricket', 'from', '2008', 'to', '2014.', 'dhoni', 'has', 'captained', 'the', 'most', 'international', 'matches', 'and', 'is', 'the', 'most', 'successful', 'indian', 'captain', '.', 'he', 'has', 'led', 'india', 'to', 'victory', 'in', 'the', '2007', 'icc', 'world', 'twenty20', ',', 'the', '2011', 'cricket', 'world', 'cup', ',', 'and', 'the', '2013', 'icc', 'champions', 'trophy', ',', 'being', 'the', 'only', 'captain', 'to', 'win', 'three', 'different', 'limited', 'overs', 'icc', 'tournaments', '.', 'he', 'also', 'led', 'the', 'teams', 'that', 'won', 'the', 'asia', 'cup', 'in', '2010', ',', '2016', 'and', 'was', 'a', 'member', 'of', 'the', 'title', 'winning', 'squad', 'in', '2018', '.']\n",
      "4\n",
      "152\n"
     ]
    }
   ],
   "source": [
    "#tokenization\n",
    "import nltk\n",
    "from nltk import word_tokenize,sent_tokenize\n",
    "input='Mahendra Singh Dhoni born 7 July 1981 is an Indian professional cricketer who plays as a right-handed batter and a wicket-keeper. Widely regarded as one of the most prolific wicket-keeper batsmen and captains and one of the greatest ODI batsmen ever, he represented the Indian cricket team and was the captain of the side in limited overs formats from 2007 to 2017 and in test cricket from 2008 to 2014. Dhoni has captained the most international matches and is the most successful Indian captain. He has led India to victory in the 2007 ICC World Twenty20, the 2011 Cricket World Cup, and the 2013 ICC Champions Trophy, being the only captain to win three different limited overs ICC tournaments. He also led the teams that won the Asia Cup in 2010, 2016 and was a member of the title winning squad in 2018.'\n",
    "lower_case_text=input.lower()\n",
    "WT_text=word_tokenize(lower_case_text)\n",
    "ST_text=sent_tokenize(lower_case_text)\n",
    "print(ST_text)\n",
    "print(WT_text)\n",
    "print(len(ST_text))\n",
    "print(len(WT_text))\n",
    "\n"
   ]
  },
  {
   "cell_type": "code",
   "execution_count": 2,
   "id": "e09da7dc-a5fd-4789-adc9-9a4c05c1dbca",
   "metadata": {},
   "outputs": [
    {
     "name": "stdout",
     "output_type": "stream",
     "text": [
      "filted_text =  ['mahendra', 'singh', 'dhoni', 'born', '7', 'july', '1981', 'indian', 'professional', 'cricketer', 'plays', 'right-handed', 'batter', 'wicket-keeper', '.', 'widely', 'regarded', 'one', 'prolific', 'wicket-keeper', 'batsmen', 'captains', 'one', 'greatest', 'odi', 'batsmen', 'ever', ',', 'represented', 'indian', 'cricket', 'team', 'captain', 'side', 'limited', 'overs', 'formats', '2007', '2017', 'test', 'cricket', '2008', '2014.', 'dhoni', 'captained', 'international', 'matches', 'successful', 'indian', 'captain', '.', 'led', 'india', 'victory', '2007', 'icc', 'world', 'twenty20', ',', '2011', 'cricket', 'world', 'cup', ',', '2013', 'icc', 'champions', 'trophy', ',', 'captain', 'win', 'three', 'different', 'limited', 'overs', 'icc', 'tournaments', '.', 'also', 'led', 'teams', 'asia', 'cup', '2010', ',', '2016', 'member', 'title', 'winning', 'squad', '2018', '.']\n",
      "\n",
      " lenght of filterd_text =  92\n",
      "\n",
      " mahendra singh dhoni born 7 july 1981 indian professional cricketer plays right-handed batter wicket-keeper . widely regarded one prolific wicket-keeper batsmen captains one greatest odi batsmen ever , represented indian cricket team captain side limited overs formats 2007 2017 test cricket 2008 2014. dhoni captained international matches successful indian captain . led india victory 2007 icc world twenty20 , 2011 cricket world cup , 2013 icc champions trophy , captain win three different limited overs icc tournaments . also led teams asia cup 2010 , 2016 member title winning squad 2018 .\n"
     ]
    }
   ],
   "source": [
    "#stop_words_removal\n",
    "import nltk \n",
    "from nltk import word_tokenize,sent_tokenize\n",
    "from nltk.corpus import stopwords\n",
    "stop_word_list=set(stopwords.words('english'))\n",
    "input='Mahendra Singh Dhoni born 7 July 1981 is an Indian professional cricketer who plays as a right-handed batter and a wicket-keeper. Widely regarded as one of the most prolific wicket-keeper batsmen and captains and one of the greatest ODI batsmen ever, he represented the Indian cricket team and was the captain of the side in limited overs formats from 2007 to 2017 and in test cricket from 2008 to 2014. Dhoni has captained the most international matches and is the most successful Indian captain. He has led India to victory in the 2007 ICC World Twenty20, the 2011 Cricket World Cup, and the 2013 ICC Champions Trophy, being the only captain to win three different limited overs ICC tournaments. He also led the teams that won the Asia Cup in 2010, 2016 and was a member of the title winning squad in 2018.'\n",
    "lower_case_text=input.lower()\n",
    "WT_text=word_tokenize(lower_case_text)\n",
    "filterd_text=[]\n",
    "for token in WT_text :\n",
    "    if token not in stop_word_list:\n",
    "        filterd_text.append(token)\n",
    "print (\"filted_text = \",filterd_text)\n",
    "print (\"\\n lenght of filterd_text = \",len(filterd_text))\n",
    "print( '\\n',' ' .join(filterd_text))"
   ]
  },
  {
   "cell_type": "code",
   "execution_count": null,
   "id": "cc31c18f-6064-479d-9dd7-2a708d43ce0a",
   "metadata": {},
   "outputs": [],
   "source": []
  }
 ],
 "metadata": {
  "kernelspec": {
   "display_name": "Python 3 (ipykernel)",
   "language": "python",
   "name": "python3"
  },
  "language_info": {
   "codemirror_mode": {
    "name": "ipython",
    "version": 3
   },
   "file_extension": ".py",
   "mimetype": "text/x-python",
   "name": "python",
   "nbconvert_exporter": "python",
   "pygments_lexer": "ipython3",
   "version": "3.13.5"
  }
 },
 "nbformat": 4,
 "nbformat_minor": 5
}
